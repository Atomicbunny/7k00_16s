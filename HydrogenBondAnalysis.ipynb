{
 "cells": [
  {
   "cell_type": "code",
   "execution_count": 1,
   "id": "3f716ae9-28f1-4454-af98-0e70ca33fe8b",
   "metadata": {},
   "outputs": [
    {
     "name": "stderr",
     "output_type": "stream",
     "text": [
      "/tmp/ipykernel_1171487/161246940.py:7: DeprecationWarning: \n",
      "Pyarrow will become a required dependency of pandas in the next major release of pandas (pandas 3.0),\n",
      "(to allow more performant data types, such as the Arrow string type, and better interoperability with other libraries)\n",
      "but was not found to be installed on your system.\n",
      "If this would cause problems for you,\n",
      "please provide us feedback at https://github.com/pandas-dev/pandas/issues/54466\n",
      "        \n",
      "  import pandas as pd\n",
      "/home/turkm23/.local/lib/python3.11/site-packages/MDAnalysis/coordinates/DCD.py:165: DeprecationWarning: DCDReader currently makes independent timesteps by copying self.ts while other readers update self.ts inplace. This behavior will be changed in 3.0 to be the same as other readers. Read more at https://github.com/MDAnalysis/mdanalysis/issues/3889 to learn if this change in behavior might affect you.\n",
      "  warnings.warn(\"DCDReader currently makes independent timesteps\"\n",
      "/home/turkm23/.local/lib/python3.11/site-packages/MDAnalysis/coordinates/base.py:728: UserWarning: Reader has no dt information, set to 1.0 ps\n",
      "  return self.ts.dt\n"
     ]
    }
   ],
   "source": [
    "import pickle\n",
    "from contextlib import redirect_stdout\n",
    "from tabulate import tabulate as tab\n",
    "import MDAnalysis as mda \n",
    "from MDAnalysis.analysis.hydrogenbonds.hbond_analysis import HydrogenBondAnalysis as HydrogenBondAnalysis\n",
    "import numpy as np\n",
    "import pandas as pd\n",
    "import matplotlib.pyplot as plt\n",
    "%matplotlib inline\n",
    "u = mda.Universe('7k0016s2_tmao_wbiSHRT.psf','7k0016s2_tmao_wbiSHRT.pdb','7k00_100ns_solvremvd.dcd')"
   ]
  },
  {
   "cell_type": "code",
   "execution_count": 2,
   "id": "b3889c45-b69d-4346-bc45-9d71b0e58142",
   "metadata": {},
   "outputs": [],
   "source": [
    "#Script analyzing the hydrogen bonds between canonical WC base pairs and common wobble base pairing G-U\n",
    "#order is donor|selector\n",
    "\n",
    "#WC base pair G-C, named by acceptor we are looking at\n",
    "\n",
    "#first one is best template so far from what I have seen, this appears to work, just need to choose our parameters\n",
    "#wisely\n",
    "\n",
    "hbondsGUAC = HydrogenBondAnalysis(\n",
    "    universe=u,\n",
    "    donors_sel= None ,\n",
    "    hydrogens_sel=None ,\n",
    "    acceptors_sel=\"resname GUA and name O6\",\n",
    "    d_a_cutoff=3.5,\n",
    "    d_h_a_angle_cutoff=150,\n",
    "    between=['resname CYT', 'resname GUA'],\n",
    "    update_selections=False\n",
    ")\n",
    "\n",
    "hbondsCYT = HydrogenBondAnalysis(\n",
    "    universe=u,\n",
    "    donors_sel= None ,\n",
    "    hydrogens_sel=None ,\n",
    "    acceptors_sel=\"resname CYT and name N1 O2\",\n",
    "    d_a_cutoff=3.5,\n",
    "    d_h_a_angle_cutoff=150,\n",
    "    between=['resname CYT', 'resname GUA'],\n",
    "    update_selections=False\n",
    ")\n",
    "\n",
    "\n",
    "#wc base pair A-U , named based on acceptor we are looking at\n",
    "\n",
    "hbondsURAA = HydrogenBondAnalysis(\n",
    "    universe=u,\n",
    "    donors_sel= None ,\n",
    "    hydrogens_sel=None ,\n",
    "    acceptors_sel=\"resname URA and name O4\",\n",
    "    d_a_cutoff=3.5,\n",
    "    d_h_a_angle_cutoff=150,\n",
    "    between=['resname URA', 'resname ADE'],\n",
    "    update_selections=False\n",
    ")\n",
    "\n",
    "hbondsADE = HydrogenBondAnalysis(\n",
    "    universe=u,\n",
    "    donors_sel= None ,\n",
    "    hydrogens_sel=None ,\n",
    "    acceptors_sel=\"resname ADE and name N1\",\n",
    "    d_a_cutoff=3.5,\n",
    "    d_h_a_angle_cutoff=150,\n",
    "    between=['resname URA', 'resname ADE'],\n",
    "    update_selections=False\n",
    ")\n",
    "\n",
    "# Wobble base pairing G-U\n",
    "hbondsURAG = HydrogenBondAnalysis(\n",
    "    universe=u,\n",
    "    donors_sel= None ,\n",
    "    hydrogens_sel=None ,\n",
    "    acceptors_sel=\"resname URA and name O2\",\n",
    "    d_a_cutoff=3.5,\n",
    "    d_h_a_angle_cutoff=150,\n",
    "    between=['resname URA', 'resname GUA'],\n",
    "    update_selections=False\n",
    ")\n",
    "\n",
    "hbondsGUAU = HydrogenBondAnalysis(\n",
    "    universe=u,\n",
    "    donors_sel= None ,\n",
    "    hydrogens_sel=None ,\n",
    "    acceptors_sel=\"resname GUA and name O6\",\n",
    "    d_a_cutoff=3.5,\n",
    "    between=['resname URA', 'resname GUA'],\n",
    "    update_selections=False\n",
    ")\n"
   ]
  },
  {
   "cell_type": "code",
   "execution_count": 3,
   "id": "9f0079cb-a00a-4adc-bfde-23b512ac9c75",
   "metadata": {},
   "outputs": [
    {
     "data": {
      "application/vnd.jupyter.widget-view+json": {
       "model_id": "a17e679d91f44993b93a64099e3292ca",
       "version_major": 2,
       "version_minor": 0
      },
      "text/plain": [
       "  0%|          | 0/1000 [00:00<?, ?it/s]"
      ]
     },
     "metadata": {},
     "output_type": "display_data"
    }
   ],
   "source": [
    "#template for data export of hydrogen bond analysis, now we just need to determine the best course for choosing what bonds\n",
    "#to look at\n",
    "hbondsGUAC.run(\n",
    "    start=50,\n",
    "    stop=None,\n",
    "    step=100,\n",
    "    verbose=True\n",
    ")\n",
    "m = hbondsGUAC.results.hbonds\n",
    "headers1 = ['frame' , 'donor index' , 'hydrogen index', 'acceptor index' , 'distance' , 'angle']\n",
    "table1 = tab(m,headers1)\n",
    "\n",
    "with open('HBONDtotalGUAC.txt', 'w') as file:\n",
    "    with redirect_stdout(file):\n",
    "        print(table1)\n",
    "\n",
    "i=hbondsGUAC.count_by_ids()\n",
    "headers2 = ['donor index' , 'hydrogen index', 'acceptor index' , 'HBOND times observed']\n",
    "table2 = tab(i,headers2)\n",
    "\n",
    "with open('HBONDbyindexGUAC.txt', 'w') as file:\n",
    "    with redirect_stdout(file):\n",
    "        print(table2)\n",
    "\n",
    "n=np.arange(0,(u.trajectory.n_frames/100)-1,dtype=int)\n",
    "t=hbondsGUAC.count_by_time().astype(np.int64)\n",
    "l1=[]\n",
    "for x in t:\n",
    "    l1.append(x)\n",
    "l2=[]\n",
    "for x in n:\n",
    "    l2.append(x)\n",
    "\n",
    "f=np.array([l2,l1])\n",
    "\n",
    "j=np.transpose(f)\n",
    "\n",
    "headers3 = ['timestep (ps)','Hbonds at this time']\n",
    "table3 = tab(j,headers3)\n",
    "\n",
    "with open('HBONDbytimeGUAC.txt', 'w') as file:\n",
    "    with redirect_stdout(file):\n",
    "            print(table3)"
   ]
  },
  {
   "cell_type": "code",
   "execution_count": 4,
   "id": "a10cd052-7e14-45d5-9a40-53b95788932e",
   "metadata": {},
   "outputs": [
    {
     "data": {
      "application/vnd.jupyter.widget-view+json": {
       "model_id": "ddb129fde0e248eb8b56657939006fe1",
       "version_major": 2,
       "version_minor": 0
      },
      "text/plain": [
       "  0%|          | 0/1000 [00:00<?, ?it/s]"
      ]
     },
     "metadata": {},
     "output_type": "display_data"
    }
   ],
   "source": [
    "hbondsCYT.run(\n",
    "    start=50,\n",
    "    stop=None,\n",
    "    step=100,\n",
    "    verbose=True\n",
    ")\n",
    "m = hbondsCYT.results.hbonds\n",
    "headers1 = ['frame' , 'donor index' , 'hydrogen index', 'acceptor index' , 'distance' , 'angle']\n",
    "table1 = tab(m,headers1)\n",
    "\n",
    "with open('HBONDtotalCYT.txt', 'w') as file:\n",
    "    with redirect_stdout(file):\n",
    "        print(table1)\n",
    "\n",
    "i=hbondsCYT.count_by_ids()\n",
    "headers2 = ['donor index' , 'hydrogen index', 'acceptor index' , 'HBOND times observed']\n",
    "table2 = tab(i,headers2)\n",
    "\n",
    "with open('HBONDbyindexCYT.txt', 'w') as file:\n",
    "    with redirect_stdout(file):\n",
    "        print(table2)\n",
    "\n",
    "\n",
    "n=np.arange(0,(u.trajectory.n_frames/100)-1,dtype=int)\n",
    "t=hbondsCYT.count_by_time().astype(np.int64)\n",
    "l1=[]\n",
    "for x in t:\n",
    "    l1.append(x)\n",
    "l2=[]\n",
    "for x in n:\n",
    "    l2.append(x)\n",
    "\n",
    "f=np.array([l2,l1])\n",
    "\n",
    "j=np.transpose(f)\n",
    "\n",
    "headers3 = ['timestep (ps)','Hbonds at this time']\n",
    "table3 = tab(j,headers3)\n",
    "\n",
    "with open('HBONDbytimeCYT.txt', 'w') as file:\n",
    "    with redirect_stdout(file):\n",
    "            print(table3)"
   ]
  },
  {
   "cell_type": "code",
   "execution_count": 5,
   "id": "397f6b38-3f5b-43ee-8951-54bd1d4a08b4",
   "metadata": {},
   "outputs": [
    {
     "data": {
      "application/vnd.jupyter.widget-view+json": {
       "model_id": "8106536a5e9241e48c2394afd7fc0f71",
       "version_major": 2,
       "version_minor": 0
      },
      "text/plain": [
       "  0%|          | 0/1000 [00:00<?, ?it/s]"
      ]
     },
     "metadata": {},
     "output_type": "display_data"
    }
   ],
   "source": [
    "hbondsURAA.run(\n",
    "    start=50,\n",
    "    stop=None,\n",
    "    step=100,\n",
    "    verbose=True\n",
    ")\n",
    "m = hbondsURAA.results.hbonds\n",
    "headers1 = ['frame' , 'donor index' , 'hydrogen index', 'acceptor index' , 'distance' , 'angle']\n",
    "table1 = tab(m,headers1)\n",
    "\n",
    "with open('HBONDtotalURAA.txt', 'w') as file:\n",
    "    with redirect_stdout(file):\n",
    "        print(table1)\n",
    "\n",
    "i=hbondsURAA.count_by_ids()\n",
    "headers2 = ['donor index' , 'hydrogen index', 'acceptor index' , 'HBOND times observed']\n",
    "table2 = tab(i,headers2)\n",
    "\n",
    "with open('HBONDbyindexURAA.txt', 'w') as file:\n",
    "    with redirect_stdout(file):\n",
    "        print(table2)\n",
    "\n",
    "\n",
    "n=np.arange(0,(u.trajectory.n_frames/100)-1,dtype=int)\n",
    "t=hbondsURAA.count_by_time().astype(np.int64)\n",
    "l1=[]\n",
    "for x in t:\n",
    "    l1.append(x)\n",
    "l2=[]\n",
    "for x in n:\n",
    "    l2.append(x)\n",
    "\n",
    "f=np.array([l2,l1])\n",
    "\n",
    "j=np.transpose(f)\n",
    "\n",
    "headers3 = ['timestep (ps)','Hbonds at this time']\n",
    "table3 = tab(j,headers3)\n",
    "\n",
    "with open('HBONDbytimeURAA.txt', 'w') as file:\n",
    "    with redirect_stdout(file):\n",
    "            print(table3)"
   ]
  },
  {
   "cell_type": "code",
   "execution_count": 6,
   "id": "af590209-2cec-4ffe-b06e-45a78069b267",
   "metadata": {},
   "outputs": [
    {
     "data": {
      "application/vnd.jupyter.widget-view+json": {
       "model_id": "9ca2cd82f5f0445bb968dee2953d4000",
       "version_major": 2,
       "version_minor": 0
      },
      "text/plain": [
       "  0%|          | 0/1000 [00:00<?, ?it/s]"
      ]
     },
     "metadata": {},
     "output_type": "display_data"
    }
   ],
   "source": [
    "hbondsADE.run(\n",
    "    start=50,\n",
    "    stop=None,\n",
    "    step=100,\n",
    "    verbose=True\n",
    ")\n",
    "m = hbondsADE.results.hbonds\n",
    "headers1 = ['frame' , 'donor index' , 'hydrogen index', 'acceptor index' , 'distance' , 'angle']\n",
    "table1 = tab(m,headers1)\n",
    "\n",
    "with open('HBONDtotalADE.txt', 'w') as file:\n",
    "    with redirect_stdout(file):\n",
    "        print(table1)\n",
    "\n",
    "i=hbondsADE.count_by_ids()\n",
    "headers2 = ['donor index' , 'hydrogen index', 'acceptor index' , 'HBOND times observed']\n",
    "table2 = tab(i,headers2)\n",
    "\n",
    "with open('HBONDbyindexADE.txt', 'w') as file:\n",
    "    with redirect_stdout(file):\n",
    "        print(table2)\n",
    "\n",
    "\n",
    "n=np.arange(0,(u.trajectory.n_frames/100)-1,dtype=int)\n",
    "t=hbondsADE.count_by_time().astype(np.int64)\n",
    "l1=[]\n",
    "for x in t:\n",
    "    l1.append(x)\n",
    "l2=[]\n",
    "for x in n:\n",
    "    l2.append(x)\n",
    "\n",
    "f=np.array([l2,l1])\n",
    "\n",
    "j=np.transpose(f)\n",
    "\n",
    "headers3 = ['timestep (ps)','Hbonds at this time']\n",
    "table3 = tab(j,headers3)\n",
    "\n",
    "with open('HBONDbytimeADE.txt', 'w') as file:\n",
    "    with redirect_stdout(file):\n",
    "            print(table3)"
   ]
  },
  {
   "cell_type": "code",
   "execution_count": 7,
   "id": "14af0ec4-32ab-4cf1-babe-9cb8cd283e35",
   "metadata": {},
   "outputs": [
    {
     "data": {
      "application/vnd.jupyter.widget-view+json": {
       "model_id": "7d16ccd128e84fc2b82769782961a595",
       "version_major": 2,
       "version_minor": 0
      },
      "text/plain": [
       "  0%|          | 0/1000 [00:00<?, ?it/s]"
      ]
     },
     "metadata": {},
     "output_type": "display_data"
    },
    {
     "name": "stderr",
     "output_type": "stream",
     "text": [
      "/home/turkm23/.local/lib/python3.11/site-packages/MDAnalysis/analysis/hydrogenbonds/hbond_analysis.py:775: UserWarning: No hydrogen bonds were found given angle of 150 between Donor, None, and Acceptor, resname URA and name O2.\n",
      "  warnings.warn(\n"
     ]
    }
   ],
   "source": [
    "hbondsURAG.run(\n",
    "    start=50,\n",
    "    stop=None,\n",
    "    step=100,\n",
    "    verbose=True\n",
    ")\n",
    "m = hbondsURAG.results.hbonds\n",
    "headers1 = ['frame' , 'donor index' , 'hydrogen index', 'acceptor index' , 'distance' , 'angle']\n",
    "table1 = tab(m,headers1)\n",
    "\n",
    "with open('HBONDtotalURAG.txt', 'w') as file:\n",
    "    with redirect_stdout(file):\n",
    "        print(table1)\n",
    "\n",
    "i=hbondsURAG.count_by_ids()\n",
    "headers2 = ['donor index' , 'hydrogen index', 'acceptor index' , 'HBOND times observed']\n",
    "table2 = tab(i,headers2)\n",
    "\n",
    "with open('HBONDbyindexURAG.txt', 'w') as file:\n",
    "    with redirect_stdout(file):\n",
    "        print(table2)\n",
    "\n",
    "\n",
    "n=np.arange(0,(u.trajectory.n_frames/100)-1,dtype=int)\n",
    "t=hbondsURAG.count_by_time().astype(np.int64)\n",
    "l1=[]\n",
    "for x in t:\n",
    "    l1.append(x)\n",
    "l2=[]\n",
    "for x in n:\n",
    "    l2.append(x)\n",
    "\n",
    "f=np.array([l2,l1])\n",
    "\n",
    "j=np.transpose(f)\n",
    "\n",
    "headers3 = ['timestep (ps)','Hbonds at this time']\n",
    "table3 = tab(j,headers3)\n",
    "\n",
    "with open('HBONDbytimeURAG.txt', 'w') as file:\n",
    "    with redirect_stdout(file):\n",
    "            print(table3)"
   ]
  },
  {
   "cell_type": "code",
   "execution_count": 8,
   "id": "c7612806-9547-413a-81e6-e309637a6c17",
   "metadata": {},
   "outputs": [
    {
     "data": {
      "application/vnd.jupyter.widget-view+json": {
       "model_id": "9b2a753d57c04f99a00086cd5298efe0",
       "version_major": 2,
       "version_minor": 0
      },
      "text/plain": [
       "  0%|          | 0/1000 [00:00<?, ?it/s]"
      ]
     },
     "metadata": {},
     "output_type": "display_data"
    }
   ],
   "source": [
    "hbondsGUAU.run(\n",
    "    start=50,\n",
    "    stop=None,\n",
    "    step=100,\n",
    "    verbose=True\n",
    ")\n",
    "m = hbondsGUAU.results.hbonds\n",
    "headers1 = ['frame' , 'donor index' , 'hydrogen index', 'acceptor index' , 'distance' , 'angle']\n",
    "table1 = tab(m,headers1)\n",
    "\n",
    "with open('HBONDtotalGUAU.txt', 'w') as file:\n",
    "    with redirect_stdout(file):\n",
    "        print(table1)\n",
    "\n",
    "i=hbondsGUAU.count_by_ids()\n",
    "headers2 = ['donor index' , 'hydrogen index', 'acceptor index' , 'HBOND times observed']\n",
    "table2 = tab(i,headers2)\n",
    "\n",
    "with open('HBONDbyindexGUAU.txt', 'w') as file:\n",
    "    with redirect_stdout(file):\n",
    "        print(table2)\n",
    "\n",
    "n=np.arange(0,(u.trajectory.n_frames/100)-1,dtype=int)\n",
    "t=hbondsGUAU.count_by_time().astype(np.int64)\n",
    "l1=[]\n",
    "for x in t:\n",
    "    l1.append(x)\n",
    "l2=[]\n",
    "for x in n:\n",
    "    l2.append(x)\n",
    "\n",
    "f=np.array([l2,l1])\n",
    "\n",
    "j=np.transpose(f)\n",
    "\n",
    "headers3 = ['timestep (ps)','Hbonds at this time']\n",
    "table3 = tab(j,headers3)\n",
    "\n",
    "with open('HBONDbytimeGUAU.txt', 'w') as file:\n",
    "    with redirect_stdout(file):\n",
    "            print(table3)"
   ]
  },
  {
   "cell_type": "code",
   "execution_count": null,
   "id": "ecf37d17-dad0-43c0-8dac-bdd827eb11b0",
   "metadata": {},
   "outputs": [],
   "source": []
  }
 ],
 "metadata": {
  "kernelspec": {
   "display_name": "Python 3 (ipykernel)",
   "language": "python",
   "name": "python3"
  },
  "language_info": {
   "codemirror_mode": {
    "name": "ipython",
    "version": 3
   },
   "file_extension": ".py",
   "mimetype": "text/x-python",
   "name": "python",
   "nbconvert_exporter": "python",
   "pygments_lexer": "ipython3",
   "version": "3.11.8"
  }
 },
 "nbformat": 4,
 "nbformat_minor": 5
}
